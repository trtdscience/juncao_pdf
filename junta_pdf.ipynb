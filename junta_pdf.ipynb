{
 "cells": [
  {
   "cell_type": "code",
   "execution_count": 2,
   "id": "9bdc7dda-6376-4bdf-b923-4009964c8b1c",
   "metadata": {},
   "outputs": [
    {
     "name": "stdout",
     "output_type": "stream",
     "text": [
      "Collecting pypdf2\n",
      "  Downloading pypdf2-3.0.1-py3-none-any.whl.metadata (6.8 kB)\n",
      "Downloading pypdf2-3.0.1-py3-none-any.whl (232 kB)\n",
      "Installing collected packages: pypdf2\n",
      "Successfully installed pypdf2-3.0.1\n",
      "Note: you may need to restart the kernel to use updated packages.\n"
     ]
    }
   ],
   "source": [
    "pip install pypdf2"
   ]
  },
  {
   "cell_type": "code",
   "execution_count": 6,
   "id": "24d3694f-a1e0-451c-92ac-cbc4d168a397",
   "metadata": {},
   "outputs": [],
   "source": [
    "import PyPDF2 as pdf\n",
    "\n",
    "# Biblioteca para manipular arquivos do computador\n",
    "import os"
   ]
  },
  {
   "cell_type": "code",
   "execution_count": 7,
   "id": "5cde1c1c-78d6-4d48-81ef-714ae60ddeb8",
   "metadata": {},
   "outputs": [],
   "source": [
    "mescla = pdf.PdfMerger()"
   ]
  },
  {
   "cell_type": "code",
   "execution_count": 10,
   "id": "669cf8ce-6a6e-4606-952a-47ce92c23439",
   "metadata": {},
   "outputs": [
    {
     "name": "stdout",
     "output_type": "stream",
     "text": [
      "['01. PDF.pdf', '02. Arquivo.pdf', '03. Ultimo Arquivo.pdf']\n"
     ]
    }
   ],
   "source": [
    "# Listar arquivos para mescla\n",
    "lista_arq = os.listdir('arquivos')\n",
    "lista_arq.sort()\n",
    "print(lista_arq)"
   ]
  },
  {
   "cell_type": "code",
   "execution_count": 13,
   "id": "a740fb77-6b07-470c-8b44-a7848151ec5b",
   "metadata": {},
   "outputs": [],
   "source": [
    "# Percorrer lista de arquivos, identificar apenas .pdf e mesclá-los\n",
    "for arquivo in lista_arq:\n",
    "    if '.pdf' in arquivo:\n",
    "        mescla.append(f'arquivos/{arquivo}')\n",
    "\n",
    "mescla.write('versao_final.pdf')"
   ]
  },
  {
   "cell_type": "code",
   "execution_count": null,
   "id": "ec66bdb6-86fa-413f-8386-7b21a244606e",
   "metadata": {},
   "outputs": [],
   "source": []
  }
 ],
 "metadata": {
  "kernelspec": {
   "display_name": "Python 3 (ipykernel)",
   "language": "python",
   "name": "python3"
  },
  "language_info": {
   "codemirror_mode": {
    "name": "ipython",
    "version": 3
   },
   "file_extension": ".py",
   "mimetype": "text/x-python",
   "name": "python",
   "nbconvert_exporter": "python",
   "pygments_lexer": "ipython3",
   "version": "3.12.7"
  }
 },
 "nbformat": 4,
 "nbformat_minor": 5
}
